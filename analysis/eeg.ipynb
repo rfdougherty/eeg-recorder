{
 "cells": [
  {
   "cell_type": "code",
   "execution_count": null,
   "metadata": {},
   "outputs": [],
   "source": [
    "#%pip install numpy pandas scipy plotly scikit-learn lempel_ziv_complexity"
   ]
  },
  {
   "cell_type": "code",
   "execution_count": null,
   "metadata": {},
   "outputs": [],
   "source": [
    "import datetime\n",
    "import pandas as pd\n",
    "import numpy as np\n",
    "import json\n",
    "from scipy import signal\n",
    "import plotly.express as px\n",
    "import plotly.graph_objects as go\n",
    "from plotly.subplots import make_subplots\n",
    "from scipy.signal import hilbert \n",
    "from lempel_ziv_complexity import lempel_ziv_complexity\n",
    "\n",
    "from mt_spectrogram import multitaper_spectrogram, nanpow2db\n",
    "\n",
    "\n",
    "pd.set_option('display.max_rows', 300)\n",
    "pd.set_option('display.max_columns', 300)\n",
    "pd.set_option('display.max_colwidth', 1000)\n",
    "\n",
    "def load_eeg(json_filename):\n",
    "    with open(json_filename) as fp:\n",
    "        jsn = json.load(fp)\n",
    "    #print(f'start: {jsn[\"start_ts\"]}, end: {jsn[\"end_ts\"]}, metadata: {jsn[\"metadata\"]}')\n",
    "    electrode_name_map = {i: n for i, n in enumerate(jsn['metadata']['electrodeNames'])}\n",
    "    dfs = []\n",
    "    for i, e in enumerate(jsn['eeg']):\n",
    "        tmpdf = pd.json_normalize(e)\n",
    "        tmpdf['start'] = jsn[\"start_ts\"]\n",
    "        #df['end'] = jsn[\"end_ts\"]\n",
    "        delta_secs = tmpdf.timestamp.diff().median() / 1000 \n",
    "        if not np.isclose(delta_secs / 12, EEG_DT):\n",
    "            print(f'WARNING: delta_secs={delta_secs / 12}, should be {EEG_DT}.')\n",
    "        samp_offset = pd.to_numeric([EEG_DT * i for i in range(12)])\n",
    "        tmpdf['samp_offset'] = [samp_offset for i in tmpdf.index]\n",
    "        dfs.append(tmpdf)\n",
    "    df = pd.concat(dfs)\n",
    "    df = df.explode(column=['samples', 'samp_offset']).reset_index(drop=True)\n",
    "    df.timestamp += (df.samp_offset * 1000).astype(float)\n",
    "    df['reltime'] = (df.timestamp - df.timestamp[0]).astype(float) / 1000\n",
    "    df['device'] = jsn['metadata']['deviceName']\n",
    "    #df.electrode = 'E' + df.electrode.astype(str)\n",
    "    df.electrode.replace(electrode_name_map, inplace=True)\n",
    "    df.rename(columns={'samples': 'samp', 'index': 'seq'}, inplace=True)\n",
    "    df.samp = df.samp.astype(float)\n",
    "    df.timestamp = df.timestamp.astype(float)\n",
    "    df.drop(columns='samp_offset', inplace=True)\n",
    "    return df\n",
    "\n",
    "def calc_bands_power(x, dt, bands):\n",
    "    f, psd = signal.welch(x, fs=1. / dt)\n",
    "    power = {band: np.abs(np.mean(psd[np.where((f >= lf) & (f <= hf))])) \n",
    "                          for band, (lf, hf) in bands.items()}\n",
    "    return power\n",
    "\n",
    "\n",
    "def lzc(x):\n",
    "    \"\"\"\n",
    "    Compute the Lempel-Ziv Complexity on a timeseries x of real numbers.\n",
    "    This is computed by taking the analytical signal of x (using \n",
    "    scipy.signal.hilbert) and creating a series of bits by thresholding\n",
    "    with meadian of of the amplitude.\n",
    "    \"\"\"\n",
    "    amp = np.abs(hilbert(x))\n",
    "    bitstr = ''.join([str(b) for b in (amp > np.median(amp)).astype(int)])\n",
    "    complexity = lempel_ziv_complexity(bitstr)\n",
    "    return complexity\n",
    "\n",
    "EEG_FS = 256\n",
    "SEN_FS = 52\n",
    "EEG_DT = 1 / EEG_FS\n",
    "!ls data/Muse*"
   ]
  },
  {
   "cell_type": "code",
   "execution_count": null,
   "metadata": {},
   "outputs": [],
   "source": [
    "fn = \"MuseS-4DD2_1681839758263.json\"\n",
    "with open(f'./data/{fn}') as fp:\n",
    "    jsn = json.load(fp)\n",
    "(jsn.keys(), jsn['accel'][0].keys(), jsn['ppg'][0].keys())"
   ]
  },
  {
   "cell_type": "code",
   "execution_count": null,
   "metadata": {},
   "outputs": [],
   "source": []
  },
  {
   "cell_type": "code",
   "execution_count": null,
   "metadata": {},
   "outputs": [],
   "source": [
    "# sequenceId is the \"timestamp\" and \n",
    "tmpdf = pd.json_normalize(jsn['accel'])\n",
    "tmpdf = tmpdf.explode(column=['samples']) #.reset_index(drop=True)\n",
    "tmpdf.head()"
   ]
  },
  {
   "cell_type": "code",
   "execution_count": null,
   "metadata": {},
   "outputs": [],
   "source": [
    "fns = {'cris': './data/MuseS-4DD2_1680820272258.json', \n",
    "       'bob': './data/MuseS-5743_1680820272258.json',\n",
    "       'patrick': './data/MuseS-5C4F_1680820272258.json'}\n",
    "\n",
    "dfs = []\n",
    "for uid, fn in fns.items():\n",
    "    tmpdf = load_eeg(fn)\n",
    "    #tmpdf[\"user_id\"] = uid\n",
    "    dfs.append(tmpdf)\n",
    "\n",
    "dfs[0].head()"
   ]
  },
  {
   "cell_type": "code",
   "execution_count": null,
   "metadata": {},
   "outputs": [],
   "source": [
    "idx = 1\n",
    "EEG_ELECTRODES = dfs[idx].electrode.unique()\n",
    "raw = dfs[idx].pivot(index=['reltime'], columns=['electrode'], values=['samp']).reset_index()\n",
    "raw.columns = [c[1] if c[1] != '' else c[0] for c in raw.columns]\n",
    "raw.dropna(inplace=True)\n",
    "raw.head()"
   ]
  },
  {
   "cell_type": "code",
   "execution_count": null,
   "metadata": {},
   "outputs": [],
   "source": [
    "win = int(round(8 * EEG_FS))\n",
    "stepwin = int(round(1 * EEG_FS))\n",
    "y = raw[EEG_ELECTRODES].rolling(window=win, center=True, step=stepwin).apply(lzc)\n",
    "y[\"reltime\"] = raw.reltime.groupby(raw.index // stepwin).mean()\n",
    "px.line(y, x=\"reltime\", y=[])"
   ]
  },
  {
   "cell_type": "code",
   "execution_count": null,
   "metadata": {},
   "outputs": [],
   "source": [
    "bands = {#'Delta': (0, 4),\n",
    "         'Theta': (4, 8),\n",
    "         'Alpha': (8, 12),\n",
    "         'Beta': (12, 30),\n",
    "         'Gamma': (30, 55),\n",
    "         'High-gamma': (65, 100)}\n",
    "\n",
    "eeg_pow = calc_bands_power(raw.AF7, EEG_DT, bands)\n",
    "fig = go.Figure(go.Bar(x=[v for v in eeg_pow.values()], y=[k for k in eeg_pow], orientation='h'))\n",
    "fig.show()"
   ]
  },
  {
   "cell_type": "code",
   "execution_count": null,
   "metadata": {},
   "outputs": [],
   "source": [
    "fig = go.Figure()\n",
    "Sxx, t, f, meta = multitaper_spectrogram(raw.AF7.values, EEG_FS, freq_range=(0, 120), ncores=-1)\n",
    "\n",
    "fig.add_trace(go.Heatmap(x=t, y=f, z=Sxx.clip(-5, 5), colorscale='Solar'))\n",
    "fig.update_layout(title='Average Multitaper Spectrogram', \n",
    "                  font=dict(size=18),\n",
    "                  yaxis=dict(title='Frequency (Hz)'), \n",
    "                  xaxis=dict(title='Time from start (seconds)'))\n",
    "fig"
   ]
  },
  {
   "cell_type": "code",
   "execution_count": null,
   "metadata": {},
   "outputs": [],
   "source": [
    "bands = {#'Delta': (0, 4),\n",
    "         'Theta': (4, 8),\n",
    "         'Alpha': (8, 12),\n",
    "         'Beta': (12, 30),\n",
    "         'Gamma': (30, 55),\n",
    "         'High-gamma': (65, 100)}\n",
    "\n",
    "eeg_pow = calc_bands_power(raw.AF7, EEG_DT, bands)\n",
    "fig = go.Figure(go.Bar(x=[v for v in eeg_pow.values()], y=[k for k in eeg_pow], orientation='h'))\n",
    "fig.show()"
   ]
  },
  {
   "cell_type": "code",
   "execution_count": null,
   "metadata": {},
   "outputs": [],
   "source": [
    "fig = go.Figure()\n",
    "Sxx, t, f, meta = multitaper_spectrogram(raw.AF7.values, EEG_FS, freq_range=(0, 120), ncores=-1)\n",
    "\n",
    "fig.add_trace(go.Heatmap(x=t, y=f, z=Sxx.clip(-5, 5), colorscale='Solar'))\n",
    "fig.update_layout(title='Average Multitaper Spectrogram', \n",
    "                  font=dict(size=18),\n",
    "                  yaxis=dict(title='Frequency (Hz)'), \n",
    "                  xaxis=dict(title='Time from start (seconds)'))\n",
    "fig"
   ]
  },
  {
   "cell_type": "code",
   "execution_count": null,
   "metadata": {},
   "outputs": [],
   "source": [
    "NPERSEG = 64\n",
    "#IDX = (20.0, 120.0, 145.0, 300.0)\n",
    "IDX = (1.0, 20.0, 25.0, 50.0)\n",
    "\n",
    "fig = go.Figure()\n",
    "idx = (raw.reltime > IDX[0]) & (raw.reltime < IDX[1])\n",
    "f, Cxy = signal.coherence(raw.AF7[idx] + raw.TP9[idx], raw.AF8[idx] + raw.TP10[idx], 256, nperseg=NPERSEG)\n",
    "fig.add_trace(go.Scatter(x=f, y=Cxy, mode='lines', name=f'Task'))\n",
    "idx = (raw.reltime > IDX[2]) & (raw.reltime < IDX[3])\n",
    "f, Cxy = signal.coherence(raw.AF7[idx] + raw.TP9[idx], raw.AF8[idx] + raw.TP10[idx], 256, nperseg=NPERSEG)\n",
    "fig.add_trace(go.Scatter(x=f, y=Cxy, mode='lines', name=f'Rest'))\n",
    "    \n",
    "fig.update_layout(yaxis= {'type': 'log', 'title': 'Coherence'},\n",
    "                  xaxis_title='Frequency',\n",
    "                  legend={'font': {'size': 14}, \n",
    "                          #'title': {'font': {'size': 16}, 'text': 'Measure'},\n",
    "                          'yanchor': 'bottom', 'y': 0.05, 'xanchor': 'center', 'x': 0.5},\n",
    "                  title='Fronto-temporal Coherence',\n",
    "                  font={'size': 18})\n",
    "\n",
    "fig.show()"
   ]
  },
  {
   "cell_type": "code",
   "execution_count": null,
   "metadata": {},
   "outputs": [],
   "source": [
    "NPERSEG = 64\n",
    "#IDX = (20.0, 120.0, 145.0, 300.0)\n",
    "IDX = (1.0, 16.0, 22.0, 55.0)\n",
    "\n",
    "fig = go.Figure()\n",
    "for k in [('E0', 'E1'), ('E3', 'E2')]:\n",
    "    idx = (raw.reltime > IDX[0]) & (raw.reltime < IDX[1])\n",
    "    f, Cxy = signal.coherence(raw[k[0]][idx], raw[k[1]][idx], 256, nperseg=NPERSEG)\n",
    "    fig.add_trace(go.Scatter(x=f, y=Cxy, mode='lines', name=f'Task {k[0]} v. {k[1]}'))\n",
    "    idx = (raw.reltime > IDX[2]) & (raw.reltime < IDX[3])\n",
    "    f, Cxy = signal.coherence(raw[k[0]][idx], raw[k[1]][idx], 256, nperseg=NPERSEG)\n",
    "    fig.add_trace(go.Scatter(x=f, y=Cxy, mode='lines', name=f'Rest {k[0]} v. {k[1]}'))\n",
    "    \n",
    "fig.update_layout(yaxis= {'type': 'log', 'title': 'Coherence'},\n",
    "                  xaxis_title='Frequency',\n",
    "                  legend={'font': {'size': 14}, \n",
    "                          #'title': {'font': {'size': 16}, 'text': 'Measure'},\n",
    "                          'yanchor': 'bottom', 'y': 0.05, 'xanchor': 'center', 'x': 0.5},\n",
    "                  title='Coherence',\n",
    "                  font={'size': 18})\n",
    "\n",
    "fig.show()"
   ]
  },
  {
   "cell_type": "code",
   "execution_count": null,
   "metadata": {},
   "outputs": [],
   "source": [
    "from numpy_ext import rolling_apply\n",
    "\n",
    "def coherence(x, y):\n",
    "    f, Cxy = signal.coherence(x, y, 256, nperseg=NPERSEG)\n",
    "    return f, Cxy\n",
    "\n",
    "df = raw.copy().set_index('samp')\n",
    "\n",
    "#df[['f', 'Cxy']] = rolling_apply(coherence, , df.AF7.values, df.TP9.values)\n",
    "#locdf[['dist', 'bearing']] = pd.DataFrame(np.row_stack(np.vectorize(dist_az, otypes=['O'])(\n",
    "#    locdf['latitude'], locdf['longitude'], locdf['homelat'], locdf['homelon'])), index=locdf.index)\n",
    "#print(df)"
   ]
  },
  {
   "cell_type": "code",
   "execution_count": null,
   "metadata": {},
   "outputs": [],
   "source": [
    "fig = make_subplots(rows=3, cols=1, subplot_titles=('Sensors', 'Raw EEG', 'Muse Bands'))\n",
    "#fig = go.Figure(go.Bar(y=statdf.index, x=statdf['User-days'], orientation='h'))\n",
    "\n",
    "for v in ['x', 'y', 'z']:\n",
    "    fig.add_trace(go.Scatter(x=acc.samp, y=acc[v], name=f'Accel {v.upper()}'), row=1, col=1)\n",
    "    fig.add_trace(go.Scatter(x=gyr.samp, y=gyr[v], name=f'Gyro {v.upper()}', yaxis='y2'), row=1, col=1)\n",
    "fig.update_xaxes(title_text=\"Time\", row=1, col=1)\n",
    "fig.update_yaxes(title_text=\"Accelerometer (m/s/s)\", row=1, col=1, secondary_y=False)\n",
    "fig.update_yaxes(title_text=\"Gyro (rad/s)\", row=1, col=1, secondary_y=True, anchor='x',\n",
    "                 overlaying='y', side='right')\n",
    "\n",
    "for v in ['TP9', 'AF7', 'AF8', 'TP10']: #, 'Aux']:\n",
    "    fig.add_trace(go.Scatter(x=raw.samp, y=raw[v], name=f'{v.upper()}', opacity=0.5), row=2, col=1)\n",
    "fig.update_xaxes(title_text=\"Time\", row=2, col=1)\n",
    "\n",
    "#for v in ['delta', 'theta', 'alpha', 'beta', 'gamma']:\n",
    "#    tmp = band.loc[bands.band == v, :].copy().reset_index()\n",
    "#    tmp['samp'] = tmp.index / SEN_FS\n",
    "#    fig.add_trace(go.Scatter(x=tmp.samp, y=tmp.AF7 + tmp.AF8 + tmp.TP9 + tmp.TP10, name=f'{v}'), row=3, col=1)\n",
    "#fig.update_xaxes(title_text=\"Time\", row=3, col=1)\n",
    "\n",
    "fig.update_layout(height=1000, \n",
    "                  title='Muse EEG', \n",
    "                  #showlegend=False,\n",
    "                  font={'size': 18})\n",
    "\n",
    "fig.show() "
   ]
  },
  {
   "cell_type": "code",
   "execution_count": null,
   "metadata": {},
   "outputs": [],
   "source": []
  },
  {
   "cell_type": "code",
   "execution_count": null,
   "metadata": {},
   "outputs": [],
   "source": []
  },
  {
   "cell_type": "code",
   "execution_count": null,
   "metadata": {},
   "outputs": [],
   "source": [
    "from sklearn.feature_selection import mutual_info_regression as MIR\n",
    "\n",
    "N = 10000\n",
    "X = np.random.randn(N, 1)\n",
    "y = X[:, 0] +  np.random.randn(N) * 0.01\n",
    "mi_score = MIR(X, y)\n",
    "print(mi_score)"
   ]
  }
 ],
 "metadata": {
  "kernelspec": {
   "display_name": "Python 3 (ipykernel)",
   "language": "python",
   "name": "python3"
  },
  "language_info": {
   "codemirror_mode": {
    "name": "ipython",
    "version": 3
   },
   "file_extension": ".py",
   "mimetype": "text/x-python",
   "name": "python",
   "nbconvert_exporter": "python",
   "pygments_lexer": "ipython3",
   "version": "3.11.1"
  }
 },
 "nbformat": 4,
 "nbformat_minor": 4
}
